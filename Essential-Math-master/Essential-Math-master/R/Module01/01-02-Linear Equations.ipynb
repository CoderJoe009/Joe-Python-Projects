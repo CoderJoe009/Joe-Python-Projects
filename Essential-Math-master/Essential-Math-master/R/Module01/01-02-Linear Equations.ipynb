{
 "cells": [
  {
   "cell_type": "markdown",
   "metadata": {},
   "source": [
    "# Linear Equations\n",
    "The equations in the previous lab included one variable, for which you solved the equation to find its value. Now let's look at equations with multiple variables. For reasons that will become apparent, equations with two variables are known as linear equations.\n",
    "\n",
    "## Solving a Linear Equation\n",
    "Consider the following equation:\n",
    "\n",
    "\\begin{equation}2y + 3 = 3x - 1 \\end{equation}\n",
    "\n",
    "This equation includes two different variables, **x** and **y**. These variables depend on one another; the value of x is determined in part by the value of y and vice-versa; so we can't solve the equation and find absolute values for both x and y. However, we *can* solve the equation for one of the variables and obtain a result that describes a relative relationship between the variables.\n",
    "\n",
    "For example, let's solve this equation for y. First, we'll get rid of the constant on the right by adding 1 to both sides:\n",
    "\n",
    "\\begin{equation}2y + 4 = 3x \\end{equation}\n",
    "\n",
    "Then we'll use the same technique to move the constant on the left to the right to isolate the y term by subtracting 4 from both sides:\n",
    "\n",
    "\\begin{equation}2y = 3x - 4 \\end{equation}\n",
    "\n",
    "Now we can deal with the coefficient for y by dividing both sides by 2:\n",
    "\n",
    "\\begin{equation}y = \\frac{3x - 4}{2} \\end{equation}\n",
    "\n",
    "Our equation is now solved. We've isolated **y** and defined it as <sup>3x-4</sup>/<sub>2</sub>\n",
    "\n",
    "While we can't express **y** as a particular value, we can calculate it for any value of **x**. For example, if **x** has a value of 6, then **y** can be calculated as:\n",
    "\n",
    "\\begin{equation}y = \\frac{3\\cdot6 - 4}{2} \\end{equation}\n",
    "\n",
    "This gives the result <sup>14</sup>/<sub>2</sub> which can be simplified to 7.\n",
    "\n",
    "You can view the values of **y** for a range of **x** values by applying the equation to them using the following R code:"
   ]
  },
  {
   "cell_type": "code",
   "execution_count": 1,
   "metadata": {},
   "outputs": [
    {
     "data": {
      "text/html": [
       "<table>\n",
       "<thead><tr><th scope=col>x</th><th scope=col>y</th></tr></thead>\n",
       "<tbody>\n",
       "\t<tr><td>-10  </td><td>-17.0</td></tr>\n",
       "\t<tr><td> -9  </td><td>-15.5</td></tr>\n",
       "\t<tr><td> -8  </td><td>-14.0</td></tr>\n",
       "\t<tr><td> -7  </td><td>-12.5</td></tr>\n",
       "\t<tr><td> -6  </td><td>-11.0</td></tr>\n",
       "\t<tr><td> -5  </td><td> -9.5</td></tr>\n",
       "\t<tr><td> -4  </td><td> -8.0</td></tr>\n",
       "\t<tr><td> -3  </td><td> -6.5</td></tr>\n",
       "\t<tr><td> -2  </td><td> -5.0</td></tr>\n",
       "\t<tr><td> -1  </td><td> -3.5</td></tr>\n",
       "\t<tr><td>  0  </td><td> -2.0</td></tr>\n",
       "\t<tr><td>  1  </td><td> -0.5</td></tr>\n",
       "\t<tr><td>  2  </td><td>  1.0</td></tr>\n",
       "\t<tr><td>  3  </td><td>  2.5</td></tr>\n",
       "\t<tr><td>  4  </td><td>  4.0</td></tr>\n",
       "\t<tr><td>  5  </td><td>  5.5</td></tr>\n",
       "\t<tr><td>  6  </td><td>  7.0</td></tr>\n",
       "\t<tr><td>  7  </td><td>  8.5</td></tr>\n",
       "\t<tr><td>  8  </td><td> 10.0</td></tr>\n",
       "\t<tr><td>  9  </td><td> 11.5</td></tr>\n",
       "\t<tr><td> 10  </td><td> 13.0</td></tr>\n",
       "</tbody>\n",
       "</table>\n"
      ],
      "text/latex": [
       "\\begin{tabular}{r|ll}\n",
       " x & y\\\\\n",
       "\\hline\n",
       "\t -10   & -17.0\\\\\n",
       "\t  -9   & -15.5\\\\\n",
       "\t  -8   & -14.0\\\\\n",
       "\t  -7   & -12.5\\\\\n",
       "\t  -6   & -11.0\\\\\n",
       "\t  -5   &  -9.5\\\\\n",
       "\t  -4   &  -8.0\\\\\n",
       "\t  -3   &  -6.5\\\\\n",
       "\t  -2   &  -5.0\\\\\n",
       "\t  -1   &  -3.5\\\\\n",
       "\t   0   &  -2.0\\\\\n",
       "\t   1   &  -0.5\\\\\n",
       "\t   2   &   1.0\\\\\n",
       "\t   3   &   2.5\\\\\n",
       "\t   4   &   4.0\\\\\n",
       "\t   5   &   5.5\\\\\n",
       "\t   6   &   7.0\\\\\n",
       "\t   7   &   8.5\\\\\n",
       "\t   8   &  10.0\\\\\n",
       "\t   9   &  11.5\\\\\n",
       "\t  10   &  13.0\\\\\n",
       "\\end{tabular}\n"
      ],
      "text/markdown": [
       "\n",
       "x | y | \n",
       "|---|---|---|---|---|---|---|---|---|---|---|---|---|---|---|---|---|---|---|---|---|\n",
       "| -10   | -17.0 | \n",
       "|  -9   | -15.5 | \n",
       "|  -8   | -14.0 | \n",
       "|  -7   | -12.5 | \n",
       "|  -6   | -11.0 | \n",
       "|  -5   |  -9.5 | \n",
       "|  -4   |  -8.0 | \n",
       "|  -3   |  -6.5 | \n",
       "|  -2   |  -5.0 | \n",
       "|  -1   |  -3.5 | \n",
       "|   0   |  -2.0 | \n",
       "|   1   |  -0.5 | \n",
       "|   2   |   1.0 | \n",
       "|   3   |   2.5 | \n",
       "|   4   |   4.0 | \n",
       "|   5   |   5.5 | \n",
       "|   6   |   7.0 | \n",
       "|   7   |   8.5 | \n",
       "|   8   |  10.0 | \n",
       "|   9   |  11.5 | \n",
       "|  10   |  13.0 | \n",
       "\n",
       "\n"
      ],
      "text/plain": [
       "   x   y    \n",
       "1  -10 -17.0\n",
       "2   -9 -15.5\n",
       "3   -8 -14.0\n",
       "4   -7 -12.5\n",
       "5   -6 -11.0\n",
       "6   -5  -9.5\n",
       "7   -4  -8.0\n",
       "8   -3  -6.5\n",
       "9   -2  -5.0\n",
       "10  -1  -3.5\n",
       "11   0  -2.0\n",
       "12   1  -0.5\n",
       "13   2   1.0\n",
       "14   3   2.5\n",
       "15   4   4.0\n",
       "16   5   5.5\n",
       "17   6   7.0\n",
       "18   7   8.5\n",
       "19   8  10.0\n",
       "20   9  11.5\n",
       "21  10  13.0"
      ]
     },
     "metadata": {},
     "output_type": "display_data"
    }
   ],
   "source": [
    "# Create a dataframe with an x column containing values from -10 to 10\n",
    "df = data.frame(x = seq(-10, 10))\n",
    "\n",
    "# Add a y column by applying the solved equation to x\n",
    "df$y = (3*df$x - 4) / 2\n",
    "\n",
    "#Display the dataframe\n",
    "df"
   ]
  },
  {
   "cell_type": "markdown",
   "metadata": {},
   "source": [
    "We can also plot these values to visualize the relationship between x and y as a line. For this reason, equations that describe a relative relationship between two variables are known as *linear equations*:"
   ]
  },
  {
   "cell_type": "code",
   "execution_count": 2,
   "metadata": {},
   "outputs": [
    {
     "data": {},
     "metadata": {},
     "output_type": "display_data"
    },
    {
     "data": {
      "image/png": "[encoded data removed]",
      "text/plain": [
       "plot without title"
      ]
     },
     "metadata": {},
     "output_type": "display_data"
    }
   ],
   "source": [
    "library(ggplot2)\n",
    "library(repr)\n",
    "options(repr.plot.width=4, repr.plot.height=4)\n",
    "ggplot(df, aes(x,y)) + geom_point() + geom_line(color = 'blue')"
   ]
  },
  {
   "cell_type": "markdown",
   "metadata": {},
   "source": [
    "In a linear equation, a valid solution is described by an ordered pair of x and y values. For example, valid solutions to the linear equation above include:\n",
    "- (-10, -17)\n",
    "- (0, -2)\n",
    "- (9, 11.5)\n",
    "\n",
    "The cool thing about linear equations is that we can plot the points for some specific ordered pair solutions to create the line, and then interpolate the x value for any y value (or vice-versa) along the line."
   ]
  },
  {
   "cell_type": "markdown",
   "metadata": {},
   "source": [
    "## Intercepts\n",
    "When we use a linear equation to plot a line, we can easily see where the line intersects the X and Y axes of the plot. These points are known as *intercepts*. The *x-intercept* is where the line intersects the X (horizontal) axis, and the *y-intercept* is where the line intersects the Y (horizontal) axis.\n",
    "\n",
    "Let's take a look at the line from our linear equation with the X and Y axis shown through the origin (0,0)."
   ]
  },
  {
   "cell_type": "code",
   "execution_count": 3,
   "metadata": {},
   "outputs": [
    {
     "data": {},
     "metadata": {},
     "output_type": "display_data"
    },
    {
     "data": {
      "image/png": "[encoded data removed]",
      "text/plain": [
       "plot without title"
      ]
     },
     "metadata": {},
     "output_type": "display_data"
    }
   ],
   "source": [
    "ggplot(df, aes(x,y)) + geom_point() + geom_line(color = 'blue') +\n",
    "       geom_hline(yintercept=0) + geom_vline(xintercept=0)"
   ]
  },
  {
   "cell_type": "markdown",
   "metadata": {},
   "source": [
    "The x-intercept is the point where the line crosses the X axis, and at this point, the **y** value is always 0. Similarly, the y-intercept is where the line crosses the Y axis, at which point the **x** value is 0. So to find the intercepts, we need to solve the equation for **x** when **y** is 0.\n",
    "\n",
    "For the x-intercept, our equation looks like this:\n",
    "\n",
    "\\begin{equation}0 = \\frac{3x - 4}{2} \\end{equation}\n",
    "\n",
    "Which can be reversed to make it look more familar with the x expression on the left:\n",
    "\n",
    "\\begin{equation}\\frac{3x - 4}{2} = 0 \\end{equation}\n",
    "\n",
    "We can multiply both sides by 2 to get rid of the fraction:\n",
    "\n",
    "\\begin{equation}3x - 4 = 0 \\end{equation}\n",
    "\n",
    "Then we can add 4 to both sides to get rid of the constant on the left:\n",
    "\n",
    "\\begin{equation}3x = 4 \\end{equation}\n",
    "\n",
    "And finally we can divide both sides by 3 to get the value for x:\n",
    "\n",
    "\\begin{equation}x = \\frac{4}{3} \\end{equation}\n",
    "\n",
    "Which simplifies to:\n",
    "\n",
    "\\begin{equation}x = 1\\frac{1}{3} \\end{equation}\n",
    "\n",
    "So the x-intercept is 1<sup>1</sup>/<sub>3</sub> (approximately 1.333).\n",
    "\n",
    "To get the y-intercept, we solve the equation for y when x is 0:\n",
    "\n",
    "\\begin{equation}y = \\frac{3\\cdot0 - 4}{2} \\end{equation}\n",
    "\n",
    "Since 3 x 0 is 0, this can be simplified to:\n",
    "\n",
    "\\begin{equation}y = \\frac{-4}{2} \\end{equation}\n",
    "\n",
    "-4 divided by 2 is -2, so:\n",
    "\n",
    "\\begin{equation}y = -2 \\end{equation}\n",
    "\n",
    "This gives us our y-intercept, so we can plot both intercepts on the graph:"
   ]
  },
  {
   "cell_type": "code",
   "execution_count": 4,
   "metadata": {},
   "outputs": [
    {
     "data": {},
     "metadata": {},
     "output_type": "display_data"
    },
    {
     "data": {
      "image/png": "[encoded data removed]",
      "text/plain": [
       "plot without title"
      ]
     },
     "metadata": {},
     "output_type": "display_data"
    }
   ],
   "source": [
    "ggplot(df, aes(x,y)) + geom_line(color = 'blue') +\n",
    "       geom_hline(yintercept=0) + geom_vline(xintercept=0) +\n",
    "       annotate(\"text\", x = 3, y = -2, label = \"y-intercept\")+\n",
    "       annotate(\"text\", x = 5, y = 1, label = \"x-intercept\")"
   ]
  },
  {
   "cell_type": "markdown",
   "metadata": {},
   "source": [
    "The ability to calculate the intercepts for a linear equation is useful, because you can calculate only these two points and then draw a straight line through them to create the entire line for the equation."
   ]
  },
  {
   "cell_type": "markdown",
   "metadata": {},
   "source": [
    "## Slope\n",
    "It's clear from the graph that the line from our linear equation describes a slope in which values increase as we travel up and to the right along the line. It can be useful to quantify the slope in terms of how much **x** increases (or decreases) for a given change in **y**. In the notation for this, we use the greek letter &Delta; (*delta*) to represent change:\n",
    "\n",
    "\\begin{equation}slope = \\frac{\\Delta{y}}{\\Delta{x}} \\end{equation}\n",
    "\n",
    "Sometimes slope is represented by the variable ***m***, and the equation is written as:\n",
    "\n",
    "\\begin{equation}m = \\frac{y_{2} - y_{1}}{x_{2} - x_{1}} \\end{equation}\n",
    "\n",
    "Although this form of the equation is a little more verbose, it gives us a clue as to how we calculate slope. What we need is any two ordered pairs of x,y values for the line - for example, we know that our line passes through the following two points:\n",
    "- (0,-2)\n",
    "- (6,7)\n",
    "\n",
    "We can take the x and y values from the first pair, and label them x<sub>1</sub> and y<sub>1</sub>; and then take the x and y values from the second point and label them x<sub>2</sub> and y<sub>2</sub>. Then we can plug those into our slope equation:\n",
    "\n",
    "\\begin{equation}m = \\frac{7 - -2}{6 - 0} \\end{equation}\n",
    "\n",
    "This is the same as:\n",
    "\n",
    "\\begin{equation}m = \\frac{7 + 2}{6 - 0} \\end{equation}\n",
    "\n",
    "That gives us the result <sup>9</sup>/<sub>6</sub> which is 1<sup>1</sup>/<sub>2</sub> or 1.5 .\n",
    "\n",
    "So what does that actually mean? Well, it tells us that for every change of **1** in x, **y** changes by 1<sup>1</sup>/<sub>2</sub> or 1.5. So if we start from any point on the line and move one unit to the right (along the X axis), we'll need to move 1.5 units up (along the Y axis) to get back to the line.\n",
    "\n",
    "You can plot the slope onto the original line with the following R code to verify it fits:"
   ]
  },
  {
   "cell_type": "code",
   "execution_count": 5,
   "metadata": {},
   "outputs": [
    {
     "data": {},
     "metadata": {},
     "output_type": "display_data"
    },
    {
     "data": {
      "image/png": "[encoded data removed]",
      "text/plain": [
       "plot without title"
      ]
     },
     "metadata": {},
     "output_type": "display_data"
    }
   ],
   "source": [
    "line = data.frame(x = c(0,1.5), y = c(-2,0))\n",
    "ggplot() + geom_line(data = df, aes(x,y),color = 'blue') +\n",
    "       geom_hline(yintercept=0) + geom_vline(xintercept=0) +\n",
    "       geom_line(data = line, aes(x,y), color = 'red', size = 3)"
   ]
  },
  {
   "cell_type": "markdown",
   "metadata": {},
   "source": [
    "### Slope-Intercept Form\n",
    "One of the great things about algebraic expressions is that you can write the same equation in multiple ways, or *forms*. The *slope-intercept form* is a specific way of writing a 2-variable linear equation so that the equation definition includes the slope and y-intercept. The generalised slope-intercept form looks like this:\n",
    "\n",
    "\\begin{equation}y = mx + b \\end{equation}\n",
    "\n",
    "In this notation, ***m*** is the slope and ***b*** is the y-intercept.\n",
    "\n",
    "For example, let's look at the solved linear equation we've been working with so far in this section:\n",
    "\n",
    "\\begin{equation}y = \\frac{3x - 4}{2} \\end{equation}\n",
    "\n",
    "Now that we know the slope and y-intercept for the line that this equation defines, we can rewrite the equation as:\n",
    "\n",
    "\\begin{equation}y = 1\\frac{1}{2}x + -2 \\end{equation}\n",
    "\n",
    "You can see intuitively that this is true. In our original form of the equation, to find y we multiply x by three, subtract 4, and divide by two - in other words, x is half of 3x - 4; which is 1.5x - 2. So these equations are equivalent, but the slope-intercept form has the advantages of being simpler, and including two key pieces of information we need to plot the line represented by the equation. We know the y-intecept that the line passes through (0, -2), and we know the slope of the line (for every x, we add 1.5 to y.\n",
    "\n",
    "Let's recreate our set of test x and y values using the slope-intercept form of the equation, and plot them to prove that this  describes the same line:"
   ]
  },
  {
   "cell_type": "code",
   "execution_count": 6,
   "metadata": {},
   "outputs": [
    {
     "data": {},
     "metadata": {},
     "output_type": "display_data"
    },
    {
     "data": {
      "image/png": "[encoded data removed]",
      "text/plain": [
       "plot without title"
      ]
     },
     "metadata": {},
     "output_type": "display_data"
    }
   ],
   "source": [
    "## Make a data frame with the x values\n",
    "df = data.frame(x = seq(-10,10))\n",
    "\n",
    "## Add the y values using the formula y = mx + b\n",
    "m = 1.5\n",
    "b = -2\n",
    "df$y = m * df$x + b\n",
    "\n",
    "## Plot the result\n",
    "ggplot() + geom_line(data = df, aes(x,y),color = 'blue') +\n",
    "       geom_hline(yintercept=0) + geom_vline(xintercept=0) +\n",
    "       geom_line(data = line, aes(x,y), color = 'red', size = 3) +\n",
    "       annotate(\"text\", x = 3, y = -2, label = \"y-intercept\")"
   ]
  }
 ],
 "metadata": {
  "kernelspec": {
   "display_name": "R",
   "language": "R",
   "name": "ir"
  },
  "language_info": {
   "codemirror_mode": "r",
   "file_extension": ".r",
   "mimetype": "text/x-r-source",
   "name": "R",
   "pygments_lexer": "r",
   "version": "3.4.1"
  }
 },
 "nbformat": 4,
 "nbformat_minor": 2
}
